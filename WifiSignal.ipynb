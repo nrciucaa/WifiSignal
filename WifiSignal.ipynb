{
  "nbformat": 4,
  "nbformat_minor": 0,
  "metadata": {
    "colab": {
      "name": "WifiSignal.ipynb",
      "provenance": [],
      "collapsed_sections": []
    },
    "kernelspec": {
      "name": "python3",
      "display_name": "Python 3"
    }
  },
  "cells": [
    {
      "cell_type": "code",
      "metadata": {
        "id": "Tnd6Iu_fENwi"
      },
      "source": [
        "import time\n",
        "import matplotlib\n",
        "import matplotlib.pyplot as plt\n",
        "import numpy as np\n",
        "import pandas as pd                  # For dataframes\n",
        "from jupyterplot import ProgressPlot # For realtime self-updating time-series plot\n",
        "import seaborn as sns                # For minimal code but beautiful static plot"
      ],
      "execution_count": null,
      "outputs": []
    },
    {
      "cell_type": "code",
      "metadata": {
        "id": "gIxITRg_FY0Q"
      },
      "source": [
        "%matplotlib inline"
      ],
      "execution_count": null,
      "outputs": []
    },
    {
      "cell_type": "code",
      "metadata": {
        "id": "4bXIR0jqFVjV"
      },
      "source": [
        "f = open(\"/proc/net/wireless\", \"r\") # In Linux Ubuntu, instantaneous Wifi signal strength info is stored in the file \"/proc/net/wireless\""
      ],
      "execution_count": null,
      "outputs": []
    },
    {
      "cell_type": "code",
      "metadata": {
        "id": "AiGn943WF67F"
      },
      "source": [
        "def seekdBm():\n",
        "    # Function simply reads the wireless info file and outputs power in dBm every time it is called\n",
        "    f.seek(162)                        # Seek value takes the byte number to navigate to the second line of the file pointed by 'f'\n",
        "    power = f.readline().split(\" \")[6] # The line is read and split to isolate the location containing the instantaneous power lever value\n",
        "    return float(power)                # Convert the string to float and return\n",
        "\n",
        "\n",
        "def wifitimeseries(step,steps):\n",
        "    # Sample the Wifi signal (read wireless info file) for a given step-size and total number of steps\n",
        "    t0 = time.time()  # Save starting time as zero reference\n",
        "    ti, power = time.time()-t0, seekdBm() # Obtain current time (referenced to zero time above) and signal strength\n",
        "    df = pd.DataFrame(data={'Time':[ti], 'Power':[power]})  # Initialize a dataframe to store the time-series pair\n",
        "    pp = ProgressPlot() # Initialize ProgressPlot for real-time plotting\n",
        "    for i in range(steps):  # Loop over number of steps\n",
        "        ti, power = time.time()-t0, seekdBm() # Obtain elapsed time and current wifi power level\n",
        "        pp.update(power)  # Update the real-time time-series plot\n",
        "        df = df.append({'Time':ti, 'Power':power}, ignore_index=True) # Store in dataframe\n",
        "        time.sleep(step)  # Wait for the time corresponding to step-size and repeat loop\n",
        "    pp.finalize() # After the loop ends, retain the final state of the time-series plot\n",
        "    return df     # Return the dataframe containing the collected data"
      ],
      "execution_count": null,
      "outputs": []
    },
    {
      "cell_type": "code",
      "metadata": {
        "id": "_5_fPO9YFamw
